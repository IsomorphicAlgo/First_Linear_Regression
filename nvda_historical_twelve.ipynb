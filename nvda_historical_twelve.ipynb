{
 "cells": [
  {
   "cell_type": "code",
   "execution_count": 1,
   "metadata": {},
   "outputs": [],
   "source": [
    "\n",
    "import json\n",
    "import mysql.connector\n",
    "import nvda_config\n",
    "import requests\n",
    "import pandas as pd\n",
    "from datetime import datetime, timedelta"
   ]
  },
  {
   "cell_type": "markdown",
   "metadata": {},
   "source": [
    "Began this page as using the original API was very limited. Phone seems to have access that I need and options for more feasible upgrade. "
   ]
  },
  {
   "cell_type": "code",
   "execution_count": 2,
   "metadata": {},
   "outputs": [],
   "source": [
    "# set up login\n",
    "Cpassword = nvda_config.mysql_password\n",
    "api_k = nvda_config.twelve_api_nvda\n",
    "base_url = 'https://api.twelvedata.com'\n"
   ]
  },
  {
   "cell_type": "code",
   "execution_count": 3,
   "metadata": {},
   "outputs": [],
   "source": [
    "# Estab;ish MySQL object\n",
    "mydb = mysql.connector.connect(\n",
    "    host=\"localhost\",   \n",
    "    user=\"root\",         \n",
    "    password=Cpassword,  \n",
    "    database=\"nvdav1\"   \n",
    ")\n",
    "\n",
    "mycursor = mydb.cursor()\n",
    "\n",
    "# Date range for historical data (adjust as needed)\n",
    "end_date = datetime.now()\n",
    "start_date = end_date - timedelta(days=365)  # Get the past year's data\n"
   ]
  },
  {
   "cell_type": "code",
   "execution_count": 4,
   "metadata": {},
   "outputs": [],
   "source": [
    "# Twelve Data API parameters\n",
    "symbol = 'NVDA'\n",
    "interval = '1min'  # Adjust interval if needed (e.g., '5min', '15min', etc.)\n",
    "outputsize = 5000  # Maximum number of data points per request (Twelve Data limit)\n",
    "\n",
    "# Function to fetch data in chunks (due to Twelve Data limits)\n",
    "def fetch_data_chunk(start_date, end_date):\n",
    "    endpoint = f'/time_series?symbol={symbol}&interval={interval}&start_date={start_date}&end_date={end_date}&outputsize={outputsize}&apikey={api_k}'\n",
    "    url = base_url + endpoint\n",
    "    response = requests.get(url)\n",
    "    return json.loads(response.content)\n"
   ]
  },
  {
   "cell_type": "code",
   "execution_count": 5,
   "metadata": {},
   "outputs": [],
   "source": [
    "# Fetch data in chunks\n",
    "current_date = start_date\n",
    "while current_date < end_date:\n",
    "    chunk_end_date = current_date + timedelta(days=30)  # Fetch 30 days at a time\n",
    "    tick_data = fetch_data_chunk(current_date.strftime('%Y-%m-%d'), chunk_end_date.strftime('%Y-%m-%d'))\n",
    "\n",
    "    # Insert tick data into MySQL\n",
    "    for tick in tick_data['values']:  # Note the different key 'values'\n",
    "        sql = \"INSERT INTO stock_ticks (symbol, time, price, volume) VALUES (%s, %s, %s, %s)\"\n",
    "        values = (symbol, tick['datetime'], tick['close'], tick['volume'])\n",
    "        mycursor.execute(sql, values)\n",
    "\n",
    "    current_date = chunk_end_date\n",
    "\n",
    "mydb.commit()\n",
    "#print(mycursor.rowcount, \"records inserted.\")"
   ]
  }
 ],
 "metadata": {
  "language_info": {
   "name": "python"
  }
 },
 "nbformat": 4,
 "nbformat_minor": 2
}
