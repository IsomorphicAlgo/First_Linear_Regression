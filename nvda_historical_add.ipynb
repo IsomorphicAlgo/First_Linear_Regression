{
 "cells": [
  {
   "cell_type": "code",
   "execution_count": 3,
   "metadata": {},
   "outputs": [],
   "source": [
    "import json\n",
    "import mysql.connector\n",
    "import nvda_config\n",
    "import requests\n",
    "import pandas as pd\n",
    "\n",
    "from datetime import datetime, timedelta\n"
   ]
  },
  {
   "cell_type": "code",
   "execution_count": 5,
   "metadata": {},
   "outputs": [],
   "source": [
    "# set up login\n",
    "Cpassword = nvda_config.mysql_password\n",
    "api_k = nvda_config.finhub_api\n",
    "finnhub_base_url = 'https://finnhub.io/api/v1'\n"
   ]
  },
  {
   "cell_type": "code",
   "execution_count": 8,
   "metadata": {},
   "outputs": [],
   "source": [
    "mydb = mysql.connector.connect(\n",
    "    host=\"localhost\",  \n",
    "    user=\"root\",         \n",
    "    password=Cpassword,  \n",
    "    database=\"nvdav1\"   \n",
    ")\n",
    "mycursor = mydb.cursor()"
   ]
  },
  {
   "cell_type": "code",
   "execution_count": 13,
   "metadata": {},
   "outputs": [
    {
     "name": "stdout",
     "output_type": "stream",
     "text": [
      "{'error': \"You don't have access to this resource.\"}\n",
      "{'error': \"You don't have access to this resource.\"}\n"
     ]
    },
    {
     "ename": "KeyError",
     "evalue": "'t'",
     "output_type": "error",
     "traceback": [
      "\u001b[1;31m---------------------------------------------------------------------------\u001b[0m\n",
      "\u001b[1;31mKeyError\u001b[0m                                  Traceback (most recent call last)\n",
      "Cell \u001b[1;32mIn[13], line 16\u001b[0m\n",
      "\u001b[0;32m     14\u001b[0m \u001b[38;5;28mprint\u001b[39m(tick_data)\n",
      "\u001b[0;32m     15\u001b[0m \u001b[38;5;66;03m# Insert tick data into MySQL\u001b[39;00m\n",
      "\u001b[1;32m---> 16\u001b[0m \u001b[38;5;28;01mfor\u001b[39;00m tick \u001b[38;5;129;01min\u001b[39;00m \u001b[43mtick_data\u001b[49m\u001b[43m[\u001b[49m\u001b[38;5;124;43m'\u001b[39;49m\u001b[38;5;124;43mt\u001b[39;49m\u001b[38;5;124;43m'\u001b[39;49m\u001b[43m]\u001b[49m:\n",
      "\u001b[0;32m     17\u001b[0m     sql \u001b[38;5;241m=\u001b[39m \u001b[38;5;124m\"\u001b[39m\u001b[38;5;124mINSERT INTO stock_ticks (symbol, time, price, volume) VALUES (\u001b[39m\u001b[38;5;132;01m%s\u001b[39;00m\u001b[38;5;124m, \u001b[39m\u001b[38;5;132;01m%s\u001b[39;00m\u001b[38;5;124m, \u001b[39m\u001b[38;5;132;01m%s\u001b[39;00m\u001b[38;5;124m, \u001b[39m\u001b[38;5;132;01m%s\u001b[39;00m\u001b[38;5;124m)\u001b[39m\u001b[38;5;124m\"\u001b[39m\n",
      "\u001b[0;32m     18\u001b[0m     values \u001b[38;5;241m=\u001b[39m (\u001b[38;5;124m\"\u001b[39m\u001b[38;5;124mNVDA\u001b[39m\u001b[38;5;124m\"\u001b[39m, tick, tick_data[\u001b[38;5;124m'\u001b[39m\u001b[38;5;124mp\u001b[39m\u001b[38;5;124m'\u001b[39m][tick], tick_data[\u001b[38;5;124m'\u001b[39m\u001b[38;5;124mv\u001b[39m\u001b[38;5;124m'\u001b[39m][tick])\n",
      "\n",
      "\u001b[1;31mKeyError\u001b[0m: 't'"
     ]
    }
   ],
   "source": [
    "# Date range for historical data (adjust as needed)\n",
    "end_date = datetime.now()\n",
    "start_date = end_date - timedelta(days=365)  # Get the past year's data\n",
    "\n",
    "# Convert dates to Unix timestamps (milliseconds)\n",
    "end_timestamp = int(end_date.timestamp() * 1000)\n",
    "start_timestamp = int(start_date.timestamp() * 1000)\n",
    "\n",
    "# Get stock ticks\n",
    "tick_endpoint = f'/stock/tick?symbol=NVDA&from={start_timestamp}&to={end_timestamp}&token={api_k}'\n",
    "tick_url = finnhub_base_url + tick_endpoint\n",
    "tick_response = requests.get(tick_url)\n",
    "tick_data = json.loads(tick_response.content)\n",
    "print(tick_data)\n",
    "# Insert tick data into MySQL\n",
    "for tick in tick_data['t']:\n",
    "    sql = \"INSERT INTO stock_ticks (symbol, time, price, volume) VALUES (%s, %s, %s, %s)\"\n",
    "    values = (\"NVDA\", tick, tick_data['p'][tick], tick_data['v'][tick])\n",
    "    mycursor.execute(sql, values)\n",
    "\n",
    "mydb.commit()\n",
    "\n",
    "print(mycursor.rowcount, \"records inserted.\")"
   ]
  }
 ],
 "metadata": {
  "language_info": {
   "name": "python"
  }
 },
 "nbformat": 4,
 "nbformat_minor": 2
}
