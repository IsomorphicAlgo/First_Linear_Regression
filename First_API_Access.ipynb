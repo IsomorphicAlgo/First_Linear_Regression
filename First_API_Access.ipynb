{
 "cells": [
  {
   "cell_type": "code",
   "execution_count": 13,
   "metadata": {
    "vscode": {
     "languageId": "python"
    }
   },
   "outputs": [],
   "source": [
    "import json\n",
    "import nvda_config\n",
    "import mysql.connector\n",
    "import requests\n",
    "import pandas as pd\n",
    "\n"
   ]
  },
  {
   "cell_type": "code",
   "execution_count": 14,
   "metadata": {
    "vscode": {
     "languageId": "python"
    }
   },
   "outputs": [],
   "source": [
    "# set up login\n",
    "Cpassword = nvda_config.mysql_password\n",
    "api_k = nvda_config.finhub_api"
   ]
  },
  {
   "cell_type": "code",
   "execution_count": 15,
   "metadata": {
    "vscode": {
     "languageId": "python"
    }
   },
   "outputs": [],
   "source": [
    "# Finnhub API setup\n",
    "finnhub_api_key = api_k\n",
    "finnhub_base_url = 'https://finnhub.io/api/v1'"
   ]
  },
  {
   "cell_type": "code",
   "execution_count": 16,
   "metadata": {
    "vscode": {
     "languageId": "python"
    }
   },
   "outputs": [],
   "source": [
    "# Get stock profile\n",
    "profile_endpoint = f'/stock/profile2?symbol=NVDA&token={finnhub_api_key}'\n",
    "profile_url = finnhub_base_url + profile_endpoint\n",
    "profile_response = requests.get(profile_url)\n",
    "profile_data = json.loads(profile_response.content)"
   ]
  },
  {
   "cell_type": "code",
   "execution_count": 20,
   "metadata": {
    "vscode": {
     "languageId": "python"
    }
   },
   "outputs": [
    {
     "name": "stdout",
     "output_type": "stream",
     "text": [
      "https://finnhub.io/api/v1/quote?symbol=NVDA&token=cq5mde9r01qhs6itr9q0cq5mde9r01qhs6itr9qg\n",
      "https://finnhub.io/api/v1/quote?symbol=NVDA&token=cq5mde9r01qhs6itr9q0cq5mde9r01qhs6itr9qg\n"
     ]
    }
   ],
   "source": [
    "# Get stock quote (current price)\n",
    "quote_endpoint = f'/quote?symbol=NVDA&token={finnhub_api_key}'\n",
    "quote_url = finnhub_base_url + quote_endpoint\n",
    "quote_response = requests.get(quote_url)\n",
    "quote_data = json.loads(quote_response.content)\n"
   ]
  },
  {
   "cell_type": "code",
   "execution_count": 18,
   "metadata": {
    "vscode": {
     "languageId": "python"
    }
   },
   "outputs": [
    {
     "name": "stdout",
     "output_type": "stream",
     "text": [
      "                                                                Profile         Quote\n",
      "country                                                              US           NaN\n",
      "currency                                                            USD           NaN\n",
      "estimateCurrency                                                    USD           NaN\n",
      "exchange                                     NASDAQ NMS - GLOBAL MARKET           NaN\n",
      "finnhubIndustry                                          Semiconductors           NaN\n",
      "ipo                                                          1999-01-22           NaN\n",
      "logo                  https://static2.finnhub.io/file/publicdatany/f...           NaN\n",
      "marketCapitalization                                     3179304.135132           NaN\n",
      "name                                                        NVIDIA Corp           NaN\n",
      "phone                                                       14084862000           NaN\n",
      "shareOutstanding                                                  24600           NaN\n",
      "ticker                                                             NVDA           NaN\n",
      "weburl                                          https://www.nvidia.com/           NaN\n",
      "c                                                                   NaN  1.292750e+02\n",
      "d                                                                   NaN  1.875000e+00\n",
      "dp                                                                  NaN  1.471700e+00\n",
      "h                                                                   NaN  1.319200e+02\n",
      "l                                                                   NaN  1.272200e+02\n",
      "o                                                                   NaN  1.282600e+02\n",
      "pc                                                                  NaN  1.274000e+02\n",
      "t                                                                   NaN  1.720814e+09\n",
      "                                                                Profile         Quote\n",
      "country                                                              US           NaN\n",
      "currency                                                            USD           NaN\n",
      "estimateCurrency                                                    USD           NaN\n",
      "exchange                                     NASDAQ NMS - GLOBAL MARKET           NaN\n",
      "finnhubIndustry                                          Semiconductors           NaN\n",
      "ipo                                                          1999-01-22           NaN\n",
      "logo                  https://static2.finnhub.io/file/publicdatany/f...           NaN\n",
      "marketCapitalization                                     3179304.135132           NaN\n",
      "name                                                        NVIDIA Corp           NaN\n",
      "phone                                                       14084862000           NaN\n",
      "shareOutstanding                                                  24600           NaN\n",
      "ticker                                                             NVDA           NaN\n",
      "weburl                                          https://www.nvidia.com/           NaN\n",
      "c                                                                   NaN  1.292750e+02\n",
      "d                                                                   NaN  1.875000e+00\n",
      "dp                                                                  NaN  1.471700e+00\n",
      "h                                                                   NaN  1.319200e+02\n",
      "l                                                                   NaN  1.272200e+02\n",
      "o                                                                   NaN  1.282600e+02\n",
      "pc                                                                  NaN  1.274000e+02\n",
      "t                                                                   NaN  1.720814e+09\n"
     ]
    }
   ],
   "source": [
    "# Create DataFrame (optional, for better visualization)\n",
    "data = {'Profile': profile_data, 'Quote': quote_data}\n",
    "df = pd.DataFrame(data)\n",
    "\n",
    "print(df)"
   ]
  },
  {
   "cell_type": "code",
   "execution_count": 27,
   "metadata": {
    "vscode": {
     "languageId": "python"
    }
   },
   "outputs": [],
   "source": [
    "mydb = mysql.connector.connect(\n",
    "  host=\"localhost\",   # Or your laptop's IP if accessing remotely\n",
    "  user=\"root\",         # Your MySQL username\n",
    "  password=Cpassword,  # Your MySQL password\n",
    "  database=\"nvdav1\"   # The schema you created\n",
    ")\n",
    "mycursor = mydb.cursor()"
   ]
  },
  {
   "cell_type": "code",
   "execution_count": 28,
   "metadata": {
    "vscode": {
     "languageId": "python"
    }
   },
   "outputs": [
    {
     "ename": "ProgrammingError",
     "evalue": "1054 (42S22): Unknown column 'marketCapitalization' in 'field list'",
     "output_type": "error",
     "traceback": [
      "\u001b[1;31m---------------------------------------------------------------------------\u001b[0m\n",
      "\u001b[1;31mProgrammingError\u001b[0m                          Traceback (most recent call last)\n",
      "Cell \u001b[1;32mIn[28], line 20\u001b[0m\n",
      "\u001b[0;32m      2\u001b[0m sql \u001b[38;5;241m=\u001b[39m \u001b[38;5;124m\"\"\"\u001b[39m\u001b[38;5;124mINSERT INTO nvda_profile (symbol, country, currency, exchange, ipo, marketCapitalization, \u001b[39m\n",
      "\u001b[0;32m      3\u001b[0m \u001b[38;5;124m                                    name, phone, shareOutstanding, ticker, weburl, logo, finnhubIndustry) \u001b[39m\n",
      "\u001b[0;32m      4\u001b[0m \u001b[38;5;124m         VALUES (\u001b[39m\u001b[38;5;132;01m%s\u001b[39;00m\u001b[38;5;124m, \u001b[39m\u001b[38;5;132;01m%s\u001b[39;00m\u001b[38;5;124m, \u001b[39m\u001b[38;5;132;01m%s\u001b[39;00m\u001b[38;5;124m, \u001b[39m\u001b[38;5;132;01m%s\u001b[39;00m\u001b[38;5;124m, \u001b[39m\u001b[38;5;132;01m%s\u001b[39;00m\u001b[38;5;124m, \u001b[39m\u001b[38;5;132;01m%s\u001b[39;00m\u001b[38;5;124m, \u001b[39m\u001b[38;5;132;01m%s\u001b[39;00m\u001b[38;5;124m, \u001b[39m\u001b[38;5;132;01m%s\u001b[39;00m\u001b[38;5;124m, \u001b[39m\u001b[38;5;132;01m%s\u001b[39;00m\u001b[38;5;124m, \u001b[39m\u001b[38;5;132;01m%s\u001b[39;00m\u001b[38;5;124m, \u001b[39m\u001b[38;5;132;01m%s\u001b[39;00m\u001b[38;5;124m, \u001b[39m\u001b[38;5;132;01m%s\u001b[39;00m\u001b[38;5;124m, \u001b[39m\u001b[38;5;132;01m%s\u001b[39;00m\u001b[38;5;124m)\u001b[39m\u001b[38;5;124m\"\"\"\u001b[39m\n",
      "\u001b[0;32m      5\u001b[0m values \u001b[38;5;241m=\u001b[39m (\n",
      "\u001b[0;32m      6\u001b[0m     profile_data\u001b[38;5;241m.\u001b[39mget(\u001b[38;5;124m'\u001b[39m\u001b[38;5;124msymbol\u001b[39m\u001b[38;5;124m'\u001b[39m),\n",
      "\u001b[0;32m      7\u001b[0m     profile_data\u001b[38;5;241m.\u001b[39mget(\u001b[38;5;124m'\u001b[39m\u001b[38;5;124mcountry\u001b[39m\u001b[38;5;124m'\u001b[39m),\n",
      "\u001b[1;32m   (...)\u001b[0m\n",
      "\u001b[0;32m     18\u001b[0m     profile_data\u001b[38;5;241m.\u001b[39mget(\u001b[38;5;124m'\u001b[39m\u001b[38;5;124mfinnhibIndust\u001b[39m\u001b[38;5;124m'\u001b[39m)\n",
      "\u001b[0;32m     19\u001b[0m )\n",
      "\u001b[1;32m---> 20\u001b[0m \u001b[43mmycursor\u001b[49m\u001b[38;5;241;43m.\u001b[39;49m\u001b[43mexecute\u001b[49m\u001b[43m(\u001b[49m\u001b[43msql\u001b[49m\u001b[43m,\u001b[49m\u001b[43m \u001b[49m\u001b[43mvalues\u001b[49m\u001b[43m)\u001b[49m\n",
      "\u001b[0;32m     22\u001b[0m mydb\u001b[38;5;241m.\u001b[39mcommit()\n",
      "\u001b[0;32m     24\u001b[0m \u001b[38;5;28mprint\u001b[39m(mycursor\u001b[38;5;241m.\u001b[39mrowcount, \u001b[38;5;124m\"\u001b[39m\u001b[38;5;124mrecord inserted.\u001b[39m\u001b[38;5;124m\"\u001b[39m)\n",
      "\n",
      "File \u001b[1;32m~\\AppData\\Local\\Packages\\PythonSoftwareFoundation.Python.3.11_qbz5n2kfra8p0\\LocalCache\\local-packages\\Python311\\site-packages\\mysql\\connector\\cursor.py:537\u001b[0m, in \u001b[0;36mMySQLCursor.execute\u001b[1;34m(self, operation, params, multi)\u001b[0m\n",
      "\u001b[0;32m    534\u001b[0m     \u001b[38;5;28;01mreturn\u001b[39;00m \u001b[38;5;28mself\u001b[39m\u001b[38;5;241m.\u001b[39m_execute_iter(\u001b[38;5;28mself\u001b[39m\u001b[38;5;241m.\u001b[39m_connection\u001b[38;5;241m.\u001b[39mcmd_query_iter(stmt))\n",
      "\u001b[0;32m    536\u001b[0m \u001b[38;5;28;01mtry\u001b[39;00m:\n",
      "\u001b[1;32m--> 537\u001b[0m     \u001b[38;5;28mself\u001b[39m\u001b[38;5;241m.\u001b[39m_handle_result(\u001b[38;5;28;43mself\u001b[39;49m\u001b[38;5;241;43m.\u001b[39;49m\u001b[43m_connection\u001b[49m\u001b[38;5;241;43m.\u001b[39;49m\u001b[43mcmd_query\u001b[49m\u001b[43m(\u001b[49m\u001b[43mstmt\u001b[49m\u001b[43m)\u001b[49m)\n",
      "\u001b[0;32m    538\u001b[0m \u001b[38;5;28;01mexcept\u001b[39;00m InterfaceError \u001b[38;5;28;01mas\u001b[39;00m err:\n",
      "\u001b[0;32m    539\u001b[0m     \u001b[38;5;28;01mif\u001b[39;00m \u001b[38;5;28mself\u001b[39m\u001b[38;5;241m.\u001b[39m_connection\u001b[38;5;241m.\u001b[39mhave_next_result:\n",
      "\n",
      "File \u001b[1;32m~\\AppData\\Local\\Packages\\PythonSoftwareFoundation.Python.3.11_qbz5n2kfra8p0\\LocalCache\\local-packages\\Python311\\site-packages\\mysql\\connector\\opentelemetry\\context_propagation.py:97\u001b[0m, in \u001b[0;36mwith_context_propagation.<locals>.wrapper\u001b[1;34m(cnx, *args, **kwargs)\u001b[0m\n",
      "\u001b[0;32m     95\u001b[0m \u001b[38;5;66;03m# pylint: disable=possibly-used-before-assignment\u001b[39;00m\n",
      "\u001b[0;32m     96\u001b[0m \u001b[38;5;28;01mif\u001b[39;00m \u001b[38;5;129;01mnot\u001b[39;00m OTEL_ENABLED \u001b[38;5;129;01mor\u001b[39;00m \u001b[38;5;129;01mnot\u001b[39;00m cnx\u001b[38;5;241m.\u001b[39motel_context_propagation:\n",
      "\u001b[1;32m---> 97\u001b[0m     \u001b[38;5;28;01mreturn\u001b[39;00m \u001b[43mmethod\u001b[49m\u001b[43m(\u001b[49m\u001b[43mcnx\u001b[49m\u001b[43m,\u001b[49m\u001b[43m \u001b[49m\u001b[38;5;241;43m*\u001b[39;49m\u001b[43margs\u001b[49m\u001b[43m,\u001b[49m\u001b[43m \u001b[49m\u001b[38;5;241;43m*\u001b[39;49m\u001b[38;5;241;43m*\u001b[39;49m\u001b[43mkwargs\u001b[49m\u001b[43m)\u001b[49m\n",
      "\u001b[0;32m     99\u001b[0m current_span \u001b[38;5;241m=\u001b[39m trace\u001b[38;5;241m.\u001b[39mget_current_span()\n",
      "\u001b[0;32m    100\u001b[0m tp_header \u001b[38;5;241m=\u001b[39m \u001b[38;5;28;01mNone\u001b[39;00m\n",
      "\n",
      "File \u001b[1;32m~\\AppData\\Local\\Packages\\PythonSoftwareFoundation.Python.3.11_qbz5n2kfra8p0\\LocalCache\\local-packages\\Python311\\site-packages\\mysql\\connector\\connection.py:859\u001b[0m, in \u001b[0;36mMySQLConnection.cmd_query\u001b[1;34m(self, query, raw, buffered, raw_as_string)\u001b[0m\n",
      "\u001b[0;32m    857\u001b[0m query \u001b[38;5;241m=\u001b[39m \u001b[38;5;28mbytes\u001b[39m(packet)\n",
      "\u001b[0;32m    858\u001b[0m \u001b[38;5;28;01mtry\u001b[39;00m:\n",
      "\u001b[1;32m--> 859\u001b[0m     result \u001b[38;5;241m=\u001b[39m \u001b[38;5;28;43mself\u001b[39;49m\u001b[38;5;241;43m.\u001b[39;49m\u001b[43m_handle_result\u001b[49m\u001b[43m(\u001b[49m\u001b[38;5;28;43mself\u001b[39;49m\u001b[38;5;241;43m.\u001b[39;49m\u001b[43m_send_cmd\u001b[49m\u001b[43m(\u001b[49m\u001b[43mServerCmd\u001b[49m\u001b[38;5;241;43m.\u001b[39;49m\u001b[43mQUERY\u001b[49m\u001b[43m,\u001b[49m\u001b[43m \u001b[49m\u001b[43mquery\u001b[49m\u001b[43m)\u001b[49m\u001b[43m)\u001b[49m\n",
      "\u001b[0;32m    860\u001b[0m \u001b[38;5;28;01mexcept\u001b[39;00m ProgrammingError \u001b[38;5;28;01mas\u001b[39;00m err:\n",
      "\u001b[0;32m    861\u001b[0m     \u001b[38;5;28;01mif\u001b[39;00m err\u001b[38;5;241m.\u001b[39merrno \u001b[38;5;241m==\u001b[39m \u001b[38;5;241m3948\u001b[39m \u001b[38;5;129;01mand\u001b[39;00m \u001b[38;5;124m\"\u001b[39m\u001b[38;5;124mLoading local data is disabled\u001b[39m\u001b[38;5;124m\"\u001b[39m \u001b[38;5;129;01min\u001b[39;00m err\u001b[38;5;241m.\u001b[39mmsg:\n",
      "\n",
      "File \u001b[1;32m~\\AppData\\Local\\Packages\\PythonSoftwareFoundation.Python.3.11_qbz5n2kfra8p0\\LocalCache\\local-packages\\Python311\\site-packages\\mysql\\connector\\connection.py:635\u001b[0m, in \u001b[0;36mMySQLConnection._handle_result\u001b[1;34m(self, packet)\u001b[0m\n",
      "\u001b[0;32m    633\u001b[0m     \u001b[38;5;28;01mreturn\u001b[39;00m \u001b[38;5;28mself\u001b[39m\u001b[38;5;241m.\u001b[39m_handle_eof(packet)\n",
      "\u001b[0;32m    634\u001b[0m \u001b[38;5;28;01mif\u001b[39;00m packet[\u001b[38;5;241m4\u001b[39m] \u001b[38;5;241m==\u001b[39m \u001b[38;5;241m255\u001b[39m:\n",
      "\u001b[1;32m--> 635\u001b[0m     \u001b[38;5;28;01mraise\u001b[39;00m get_exception(packet)\n",
      "\u001b[0;32m    637\u001b[0m \u001b[38;5;66;03m# We have a text result set\u001b[39;00m\n",
      "\u001b[0;32m    638\u001b[0m column_count \u001b[38;5;241m=\u001b[39m \u001b[38;5;28mself\u001b[39m\u001b[38;5;241m.\u001b[39m_protocol\u001b[38;5;241m.\u001b[39mparse_column_count(packet)\n",
      "\n",
      "\u001b[1;31mProgrammingError\u001b[0m: 1054 (42S22): Unknown column 'marketCapitalization' in 'field list'"
     ]
    }
   ],
   "source": [
    "# Insert data into the table\n",
    "sql = \"\"\"INSERT INTO nvda_profile (symbol, country, currency, exchange, ipo, marketCapitalization, \n",
    "                                    name, phone, shareOutstanding, ticker, weburl, logo, finnhubIndustry) \n",
    "         VALUES (%s, %s, %s, %s, %s, %s, %s, %s, %s, %s, %s, %s, %s)\"\"\"\n",
    "values = (\n",
    "    profile_data.get('symbol'),\n",
    "    profile_data.get('country'),\n",
    "    profile_data.get('currency'),\n",
    "    profile_data.get('exchange'),\n",
    "    profile_data.get('ipo'),\n",
    "    profile_data.get('marketCapitalization'),\n",
    "    profile_data.get('name'),\n",
    "    profile_data.get('phone'),\n",
    "    profile_data.get('shareOutstanding'),\n",
    "    profile_data.get('ticker'),\n",
    "    profile_data.get('weburl'),\n",
    "    profile_data.get('logo'),\n",
    "    profile_data.get('finnhubIndustry')\n",
    ")\n",
    "mycursor.execute(sql, values)\n",
    "\n",
    "mydb.commit()\n",
    "\n",
    "print(mycursor.rowcount, \"record inserted.\")"
   ]
  }
 ],
 "metadata": {
  "language_info": {
   "name": "r"
  }
 },
 "nbformat": 4,
 "nbformat_minor": 2
}
