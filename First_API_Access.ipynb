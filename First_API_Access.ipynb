{
 "cells": [
  {
   "cell_type": "code",
   "execution_count": 1,
   "metadata": {
    "vscode": {
     "languageId": "python"
    }
   },
   "outputs": [],
   "source": [
    "import json\n",
    "import nvda_config\n",
    "import mysql.connector\n",
    "import requests\n",
    "import pandas as pd\n",
    "\n"
   ]
  },
  {
   "cell_type": "code",
   "execution_count": 2,
   "metadata": {
    "vscode": {
     "languageId": "python"
    }
   },
   "outputs": [],
   "source": [
    "# set up login\n",
    "Cpassword = nvda_config.mysql_password\n",
    "api_k = nvda_config.finhub_api"
   ]
  },
  {
   "cell_type": "code",
   "execution_count": 3,
   "metadata": {
    "vscode": {
     "languageId": "python"
    }
   },
   "outputs": [],
   "source": [
    "# Finnhub API setup\n",
    "finnhub_api_key = api_k\n",
    "finnhub_base_url = 'https://finnhub.io/api/v1'"
   ]
  },
  {
   "cell_type": "code",
   "execution_count": 4,
   "metadata": {
    "vscode": {
     "languageId": "python"
    }
   },
   "outputs": [],
   "source": [
    "# Get stock profile\n",
    "profile_endpoint = f'/stock/profile2?symbol=NVDA&token={finnhub_api_key}'\n",
    "profile_url = finnhub_base_url + profile_endpoint\n",
    "profile_response = requests.get(profile_url)\n",
    "profile_data = json.loads(profile_response.content)"
   ]
  },
  {
   "cell_type": "code",
   "execution_count": 5,
   "metadata": {
    "vscode": {
     "languageId": "python"
    }
   },
   "outputs": [],
   "source": [
    "# Get stock quote (current price)\n",
    "quote_endpoint = f'/quote?symbol=NVDA&token={finnhub_api_key}'\n",
    "quote_url = finnhub_base_url + quote_endpoint\n",
    "quote_response = requests.get(quote_url)\n",
    "quote_data = json.loads(quote_response.content)\n"
   ]
  },
  {
   "cell_type": "code",
   "execution_count": 6,
   "metadata": {
    "vscode": {
     "languageId": "python"
    }
   },
   "outputs": [
    {
     "name": "stdout",
     "output_type": "stream",
     "text": [
      "                                                                Profile         Quote\n",
      "country                                                              US           NaN\n",
      "currency                                                            USD           NaN\n",
      "estimateCurrency                                                    USD           NaN\n",
      "exchange                                     NASDAQ NMS - GLOBAL MARKET           NaN\n",
      "finnhubIndustry                                          Semiconductors           NaN\n",
      "ipo                                                          1999-01-22           NaN\n",
      "logo                  https://static2.finnhub.io/file/publicdatany/f...           NaN\n",
      "marketCapitalization                                     3179304.135132           NaN\n",
      "name                                                        NVIDIA Corp           NaN\n",
      "phone                                                       14084862000           NaN\n",
      "shareOutstanding                                                  24600           NaN\n",
      "ticker                                                             NVDA           NaN\n",
      "weburl                                          https://www.nvidia.com/           NaN\n",
      "c                                                                   NaN  1.292750e+02\n",
      "d                                                                   NaN  1.875000e+00\n",
      "dp                                                                  NaN  1.471700e+00\n",
      "h                                                                   NaN  1.319200e+02\n",
      "l                                                                   NaN  1.272200e+02\n",
      "o                                                                   NaN  1.282600e+02\n",
      "pc                                                                  NaN  1.274000e+02\n",
      "t                                                                   NaN  1.720814e+09\n",
      "                                                                Profile         Quote\n",
      "country                                                              US           NaN\n",
      "currency                                                            USD           NaN\n",
      "estimateCurrency                                                    USD           NaN\n",
      "exchange                                     NASDAQ NMS - GLOBAL MARKET           NaN\n",
      "finnhubIndustry                                          Semiconductors           NaN\n",
      "ipo                                                          1999-01-22           NaN\n",
      "logo                  https://static2.finnhub.io/file/publicdatany/f...           NaN\n",
      "marketCapitalization                                     3179304.135132           NaN\n",
      "name                                                        NVIDIA Corp           NaN\n",
      "phone                                                       14084862000           NaN\n",
      "shareOutstanding                                                  24600           NaN\n",
      "ticker                                                             NVDA           NaN\n",
      "weburl                                          https://www.nvidia.com/           NaN\n",
      "c                                                                   NaN  1.292750e+02\n",
      "d                                                                   NaN  1.875000e+00\n",
      "dp                                                                  NaN  1.471700e+00\n",
      "h                                                                   NaN  1.319200e+02\n",
      "l                                                                   NaN  1.272200e+02\n",
      "o                                                                   NaN  1.282600e+02\n",
      "pc                                                                  NaN  1.274000e+02\n",
      "t                                                                   NaN  1.720814e+09\n"
     ]
    }
   ],
   "source": [
    "# Create DataFrame (optional, for better visualization)\n",
    "data = {'Profile': profile_data, 'Quote': quote_data}\n",
    "df = pd.DataFrame(data)\n",
    "\n",
    "print(df)"
   ]
  },
  {
   "cell_type": "code",
   "execution_count": 7,
   "metadata": {
    "vscode": {
     "languageId": "python"
    }
   },
   "outputs": [],
   "source": [
    "mydb = mysql.connector.connect(\n",
    "  host=\"localhost\",   # Or your laptop's IP if accessing remotely\n",
    "  user=\"root\",         # Your MySQL username\n",
    "  password=Cpassword,  # Your MySQL password\n",
    "  database=\"nvdav1\"   # The schema you created\n",
    ")\n",
    "mycursor = mydb.cursor()"
   ]
  },
  {
   "cell_type": "code",
   "execution_count": 8,
   "metadata": {
    "vscode": {
     "languageId": "python"
    }
   },
   "outputs": [
    {
     "name": "stdout",
     "output_type": "stream",
     "text": [
      "1 record inserted.\n",
      "1 record inserted.\n"
     ]
    }
   ],
   "source": [
    "# Insert data into the table\n",
    "sql = \"\"\"INSERT INTO nvda_profile (symbol, country, currency, exchange, ipo, marketCapitalization, \n",
    "                                    name, phone, shareOutstanding, ticker, weburl, logo, finnhubIndustry) \n",
    "         VALUES (%s, %s, %s, %s, %s, %s, %s, %s, %s, %s, %s, %s, %s)\"\"\"\n",
    "values = (\n",
    "    profile_data.get('symbol'),\n",
    "    profile_data.get('country'),\n",
    "    profile_data.get('currency'),\n",
    "    profile_data.get('exchange'),\n",
    "    profile_data.get('ipo'),\n",
    "    profile_data.get('marketCapitalization'),\n",
    "    profile_data.get('name'),\n",
    "    profile_data.get('phone'),\n",
    "    profile_data.get('shareOutstanding'),\n",
    "    profile_data.get('ticker'),\n",
    "    profile_data.get('weburl'),\n",
    "    profile_data.get('logo'),\n",
    "    profile_data.get('finnhubIndustry')\n",
    ")\n",
    "mycursor.execute(sql, values)\n",
    "\n",
    "mydb.commit()\n",
    "\n",
    "print(mycursor.rowcount, \"record inserted.\")"
   ]
  }
 ],
 "metadata": {
  "language_info": {
   "name": "r"
  }
 },
 "nbformat": 4,
 "nbformat_minor": 2
}
